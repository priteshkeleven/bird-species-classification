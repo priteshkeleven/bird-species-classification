{
 "cells": [
  {
   "cell_type": "code",
   "execution_count": 1,
   "metadata": {},
   "outputs": [],
   "source": [
    "import os\n",
    "import shutil\n",
    "\n",
    "import random"
   ]
  },
  {
   "cell_type": "code",
   "execution_count": 2,
   "metadata": {},
   "outputs": [],
   "source": [
    "# Define the path to the original dataset directory.\n",
    "source_dir = 'training_set'\n",
    "\n",
    "# Define the destination directories for train and test sets\n",
    "test_dir = 'testing_set'"
   ]
  },
  {
   "cell_type": "code",
   "execution_count": null,
   "metadata": {},
   "outputs": [],
   "source": [
    "# Loop over the 25 sub-folders in the source directory\n",
    "for class_folder in os.listdir(source_dir):\n",
    "    class_path = os.path.join(source_dir, class_folder)\n",
    "    os.mkdir(os.path.join(test_dir, class_folder))\n",
    "    \n",
    "    # Split the images into train and test sets\n",
    "    test_file_name = random.sample(os.listdir(class_path), k=int(0.25 * len(os.listdir(class_path))))\n",
    "    for i, file_name in enumerate(test_file_name):\n",
    "        shutil.move(os.path.join(class_path, file_name), os.path.join(test_dir, class_folder, file_name))"
   ]
  },
  {
   "cell_type": "code",
   "execution_count": 11,
   "metadata": {},
   "outputs": [
    {
     "name": "stdout",
     "output_type": "stream",
     "text": [
      "training_set/Forest Wagtail --> 693\n",
      "training_set/Red-Wattled Lapwing --> 698\n",
      "training_set/Sarus Crane --> 698\n",
      "training_set/White-Breasted Kingfisher --> 698\n",
      "training_set/Common Rosefinch --> 690\n",
      "training_set/Indian Pitta --> 472\n",
      "training_set/Common Myna --> 695\n",
      "training_set/Brown-Headed Barbet --> 693\n",
      "training_set/White Wagtail --> 698\n",
      "training_set/Common Tailorbird --> 689\n",
      "training_set/House Crow --> 693\n",
      "training_set/Ruddy Shelduck --> 694\n",
      "training_set/Indian Roller --> 695\n",
      "training_set/Coppersmith Barbet --> 584\n",
      "training_set/Common Kingfisher --> 693\n",
      "training_set/Rufous Treepie --> 645\n",
      "training_set/Hoopoe --> 693\n",
      "training_set/Jungle Babbler --> 698\n",
      "training_set/Northern Lapwing --> 698\n",
      "training_set/Indian Grey Hornbill --> 692\n",
      "training_set/Cattle Egret --> 689\n",
      "training_set/Asian Green Bee-Eater --> 693\n",
      "training_set/Gray Wagtail --> 695\n",
      "training_set/Indian Peacock --> 690\n",
      "training_set/White-Breasted Waterhen --> 698\n"
     ]
    }
   ],
   "source": [
    "for class_folder in os.listdir(source_dir):\n",
    "    class_path = os.path.join(source_dir, class_folder)\n",
    "    print(class_path, '-->', len(os.listdir(class_path)))"
   ]
  },
  {
   "cell_type": "code",
   "execution_count": 12,
   "metadata": {},
   "outputs": [
    {
     "name": "stdout",
     "output_type": "stream",
     "text": [
      "testing_set/Forest Wagtail --> 231\n",
      "testing_set/Red-Wattled Lapwing --> 232\n",
      "testing_set/Sarus Crane --> 232\n",
      "testing_set/White-Breasted Kingfisher --> 232\n",
      "testing_set/Common Rosefinch --> 229\n",
      "testing_set/Indian Pitta --> 157\n",
      "testing_set/Common Myna --> 231\n",
      "testing_set/Brown-Headed Barbet --> 232\n",
      "testing_set/White Wagtail --> 232\n",
      "testing_set/Common Tailorbird --> 229\n",
      "testing_set/House Crow --> 231\n",
      "testing_set/Ruddy Shelduck --> 231\n",
      "testing_set/Indian Roller --> 231\n",
      "testing_set/Coppersmith Barbet --> 194\n",
      "testing_set/Common Kingfisher --> 231\n",
      "testing_set/Rufous Treepie --> 215\n",
      "testing_set/Hoopoe --> 231\n",
      "testing_set/Jungle Babbler --> 232\n",
      "testing_set/Northern Lapwing --> 232\n",
      "testing_set/Indian Grey Hornbill --> 230\n",
      "testing_set/Cattle Egret --> 229\n",
      "testing_set/Asian Green Bee-Eater --> 231\n",
      "testing_set/Gray Wagtail --> 231\n",
      "testing_set/Indian Peacock --> 229\n",
      "testing_set/White-Breasted Waterhen --> 232\n"
     ]
    }
   ],
   "source": [
    "for class_folder in os.listdir(test_dir):\n",
    "    class_path = os.path.join(test_dir, class_folder)\n",
    "    print(class_path, '-->', len(os.listdir(class_path)))"
   ]
  },
  {
   "cell_type": "code",
   "execution_count": null,
   "metadata": {},
   "outputs": [],
   "source": []
  }
 ],
 "metadata": {
  "kernelspec": {
   "display_name": "Python 3 (ipykernel)",
   "language": "python",
   "name": "python3"
  },
  "language_info": {
   "codemirror_mode": {
    "name": "ipython",
    "version": 3
   },
   "file_extension": ".py",
   "mimetype": "text/x-python",
   "name": "python",
   "nbconvert_exporter": "python",
   "pygments_lexer": "ipython3",
   "version": "3.10.8"
  },
  "vscode": {
   "interpreter": {
    "hash": "05c971f8897dbf9d1c943b354f8c0801a067e5044e066c17ac4c068722163aa1"
   }
  }
 },
 "nbformat": 4,
 "nbformat_minor": 4
}
